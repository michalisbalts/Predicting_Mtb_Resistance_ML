{
 "cells": [
  {
   "cell_type": "code",
   "execution_count": 8,
   "id": "1b166aa1",
   "metadata": {},
   "outputs": [
    {
     "name": "stdout",
     "output_type": "stream",
     "text": [
      "                                           UNIQUEID AMI_BINARY_PHENOTYPE  \\\n",
      "0            site.02.subj.0001.lab.2014222001.iso.1                    S   \n",
      "1            site.02.subj.0002.lab.2014222005.iso.1                    S   \n",
      "2            site.02.subj.0004.lab.2014222010.iso.1                    S   \n",
      "3            site.02.subj.0005.lab.2014222011.iso.1                    S   \n",
      "4            site.02.subj.0006.lab.2014222013.iso.1                    S   \n",
      "...                                             ...                  ...   \n",
      "12283  site.20.subj.SCH8604398.lab.YA00134621.iso.1                    S   \n",
      "12284  site.20.subj.SCH8604399.lab.YA00134971.iso.1                    S   \n",
      "12285  site.20.subj.SCH8608291.lab.YA00135762.iso.1                    S   \n",
      "12286  site.20.subj.SCH8608295.lab.YA00134623.iso.1                    S   \n",
      "12287  site.20.subj.SCH8612323.lab.YA00134624.iso.1                    S   \n",
      "\n",
      "      BDQ_BINARY_PHENOTYPE CFZ_BINARY_PHENOTYPE DLM_BINARY_PHENOTYPE  \\\n",
      "0                      NaN                    S                    S   \n",
      "1                        S                    S                    S   \n",
      "2                        S                    S                  NaN   \n",
      "3                        S                    S                    S   \n",
      "4                        S                    S                    S   \n",
      "...                    ...                  ...                  ...   \n",
      "12283                    S                    S                    S   \n",
      "12284                    S                    S                    S   \n",
      "12285                    S                    S                    S   \n",
      "12286                    S                    S                    S   \n",
      "12287                    S                    S                    S   \n",
      "\n",
      "      EMB_BINARY_PHENOTYPE ETH_BINARY_PHENOTYPE INH_BINARY_PHENOTYPE  \\\n",
      "0                        S                    S                    S   \n",
      "1                        S                    S                    S   \n",
      "2                        S                    I                    S   \n",
      "3                        S                    S                    S   \n",
      "4                        S                    S                    S   \n",
      "...                    ...                  ...                  ...   \n",
      "12283                    S                    S                    S   \n",
      "12284                    S                    S                    S   \n",
      "12285                    R                    R                    R   \n",
      "12286                    S                    S                    S   \n",
      "12287                    S                    S                    S   \n",
      "\n",
      "      KAN_BINARY_PHENOTYPE LEV_BINARY_PHENOTYPE  ... INH_PHENOTYPE_QUALITY  \\\n",
      "0                        S                    S  ...                  HIGH   \n",
      "1                        S                    S  ...                  HIGH   \n",
      "2                        S                    S  ...                  HIGH   \n",
      "3                        S                    S  ...                  HIGH   \n",
      "4                        S                    S  ...                  HIGH   \n",
      "...                    ...                  ...  ...                   ...   \n",
      "12283                    S                    S  ...                  HIGH   \n",
      "12284                    S                    S  ...                  HIGH   \n",
      "12285                    S                    R  ...                  HIGH   \n",
      "12286                    S                    S  ...                  HIGH   \n",
      "12287                    S                    S  ...                   LOW   \n",
      "\n",
      "      KAN_PHENOTYPE_QUALITY LEV_PHENOTYPE_QUALITY LZD_PHENOTYPE_QUALITY  \\\n",
      "0                      HIGH                  HIGH                  HIGH   \n",
      "1                      HIGH                  HIGH                  HIGH   \n",
      "2                      HIGH                  HIGH                  HIGH   \n",
      "3                      HIGH                  HIGH                  HIGH   \n",
      "4                      HIGH                  HIGH                  HIGH   \n",
      "...                     ...                   ...                   ...   \n",
      "12283                  HIGH                   LOW                  HIGH   \n",
      "12284                   LOW                  HIGH                  HIGH   \n",
      "12285                  HIGH                  HIGH                   NaN   \n",
      "12286                  HIGH                   LOW                  HIGH   \n",
      "12287                  HIGH                   LOW                   LOW   \n",
      "\n",
      "      MXF_PHENOTYPE_QUALITY RIF_PHENOTYPE_QUALITY RFB_PHENOTYPE_QUALITY  \\\n",
      "0                      HIGH                  HIGH                  HIGH   \n",
      "1                       LOW                  HIGH                  HIGH   \n",
      "2                      HIGH                  HIGH                  HIGH   \n",
      "3                      HIGH                  HIGH                  HIGH   \n",
      "4                      HIGH                  HIGH                  HIGH   \n",
      "...                     ...                   ...                   ...   \n",
      "12283                   LOW                  HIGH                  HIGH   \n",
      "12284                   LOW                   LOW                  HIGH   \n",
      "12285                   LOW                  HIGH                  HIGH   \n",
      "12286                   LOW                  HIGH                  HIGH   \n",
      "12287                   LOW                  HIGH                  HIGH   \n",
      "\n",
      "       ENA_SAMPLE                                                VCF  \\\n",
      "0      ERS5298516  00/01/08/61/10861/site.02.iso.1.subject.0001.l...   \n",
      "1      ERS5298518  00/01/08/63/10863/site.02.iso.1.subject.0002.l...   \n",
      "2      ERS5298520  00/01/08/67/10867/site.02.iso.1.subject.0004.l...   \n",
      "3      ERS5298521  00/01/08/68/10868/site.02.iso.1.subject.0005.l...   \n",
      "4      ERS5298522  00/01/08/69/10869/site.02.iso.1.subject.0006.l...   \n",
      "...           ...                                                ...   \n",
      "12283  ERS6421619  00/02/83/85/28385/site.20.iso.1.subject.SCH860...   \n",
      "12284  ERS6421664  00/02/84/35/28435/site.20.iso.1.subject.SCH860...   \n",
      "12285  ERS6421689  00/02/85/60/28560/site.20.iso.1.subject.SCH860...   \n",
      "12286  ERS6421620  00/02/83/86/28386/site.20.iso.1.subject.SCH860...   \n",
      "12287  ERS6421621  00/02/83/87/28387/site.20.iso.1.subject.SCH861...   \n",
      "\n",
      "                                         REGENOTYPED_VCF  \n",
      "0      00/01/08/61/10861/site.02.iso.1.subject.0001.l...  \n",
      "1      00/01/08/63/10863/site.02.iso.1.subject.0002.l...  \n",
      "2      00/01/08/67/10867/site.02.iso.1.subject.0004.l...  \n",
      "3      00/01/08/68/10868/site.02.iso.1.subject.0005.l...  \n",
      "4      00/01/08/69/10869/site.02.iso.1.subject.0006.l...  \n",
      "...                                                  ...  \n",
      "12283  00/02/83/85/28385/site.20.iso.1.subject.SCH860...  \n",
      "12284  00/02/84/35/28435/site.20.iso.1.subject.SCH860...  \n",
      "12285  00/02/85/60/28560/site.20.iso.1.subject.SCH860...  \n",
      "12286  00/02/83/86/28386/site.20.iso.1.subject.SCH860...  \n",
      "12287  00/02/83/87/28387/site.20.iso.1.subject.SCH861...  \n",
      "\n",
      "[12288 rows x 42 columns]\n"
     ]
    }
   ],
   "source": [
    "import pandas as pd\n",
    "\n",
    "# Replace 'file_path.csv' with the path to your CSV file\n",
    "file_path = 'CRyPTIC_reuse_table_20221019-1.csv'\n",
    "\n",
    "# Read the CSV file into a Pandas DataFrame\n",
    "df = pd.read_csv(file_path)\n",
    "\n",
    "# Display the DataFrame\n",
    "print(df)\n"
   ]
  },
  {
   "cell_type": "code",
   "execution_count": 9,
   "id": "3bb08c16",
   "metadata": {},
   "outputs": [
    {
     "name": "stdout",
     "output_type": "stream",
     "text": [
      "Index(['UNIQUEID', 'AMI_BINARY_PHENOTYPE', 'BDQ_BINARY_PHENOTYPE',\n",
      "       'CFZ_BINARY_PHENOTYPE', 'DLM_BINARY_PHENOTYPE', 'EMB_BINARY_PHENOTYPE',\n",
      "       'ETH_BINARY_PHENOTYPE', 'INH_BINARY_PHENOTYPE', 'KAN_BINARY_PHENOTYPE',\n",
      "       'LEV_BINARY_PHENOTYPE', 'LZD_BINARY_PHENOTYPE', 'MXF_BINARY_PHENOTYPE',\n",
      "       'RIF_BINARY_PHENOTYPE', 'RFB_BINARY_PHENOTYPE', 'AMI_MIC', 'BDQ_MIC',\n",
      "       'CFZ_MIC', 'DLM_MIC', 'EMB_MIC', 'ETH_MIC', 'INH_MIC', 'KAN_MIC',\n",
      "       'LEV_MIC', 'LZD_MIC', 'MXF_MIC', 'RIF_MIC', 'RFB_MIC',\n",
      "       'AMI_PHENOTYPE_QUALITY', 'BDQ_PHENOTYPE_QUALITY',\n",
      "       'CFZ_PHENOTYPE_QUALITY', 'EMB_PHENOTYPE_QUALITY',\n",
      "       'ETH_PHENOTYPE_QUALITY', 'INH_PHENOTYPE_QUALITY',\n",
      "       'KAN_PHENOTYPE_QUALITY', 'LEV_PHENOTYPE_QUALITY',\n",
      "       'LZD_PHENOTYPE_QUALITY', 'MXF_PHENOTYPE_QUALITY',\n",
      "       'RIF_PHENOTYPE_QUALITY', 'RFB_PHENOTYPE_QUALITY', 'ENA_SAMPLE', 'VCF',\n",
      "       'REGENOTYPED_VCF'],\n",
      "      dtype='object')\n"
     ]
    }
   ],
   "source": [
    "print(df.columns)"
   ]
  },
  {
   "cell_type": "code",
   "execution_count": 10,
   "id": "d622992a",
   "metadata": {
    "scrolled": true
   },
   "outputs": [
    {
     "name": "stdout",
     "output_type": "stream",
     "text": [
      "                                           UNIQUEID EMB_BINARY_PHENOTYPE  \\\n",
      "0            site.02.subj.0001.lab.2014222001.iso.1                    S   \n",
      "1            site.02.subj.0002.lab.2014222005.iso.1                    S   \n",
      "2            site.02.subj.0004.lab.2014222010.iso.1                    S   \n",
      "3            site.02.subj.0005.lab.2014222011.iso.1                    S   \n",
      "4            site.02.subj.0006.lab.2014222013.iso.1                    S   \n",
      "...                                             ...                  ...   \n",
      "12283  site.20.subj.SCH8604398.lab.YA00134621.iso.1                    S   \n",
      "12284  site.20.subj.SCH8604399.lab.YA00134971.iso.1                    S   \n",
      "12285  site.20.subj.SCH8608291.lab.YA00135762.iso.1                    R   \n",
      "12286  site.20.subj.SCH8608295.lab.YA00134623.iso.1                    S   \n",
      "12287  site.20.subj.SCH8612323.lab.YA00134624.iso.1                    S   \n",
      "\n",
      "      EMB_MIC EMB_PHENOTYPE_QUALITY  ENA_SAMPLE  \\\n",
      "0         1.0                  HIGH  ERS5298516   \n",
      "1         1.0                  HIGH  ERS5298518   \n",
      "2         2.0                  HIGH  ERS5298520   \n",
      "3         1.0                  HIGH  ERS5298521   \n",
      "4         2.0                  HIGH  ERS5298522   \n",
      "...       ...                   ...         ...   \n",
      "12283     2.0                  HIGH  ERS6421619   \n",
      "12284     1.0                  HIGH  ERS6421664   \n",
      "12285    16.0                  HIGH  ERS6421689   \n",
      "12286     2.0                   LOW  ERS6421620   \n",
      "12287     2.0                   LOW  ERS6421621   \n",
      "\n",
      "                                                     VCF  \\\n",
      "0      00/01/08/61/10861/site.02.iso.1.subject.0001.l...   \n",
      "1      00/01/08/63/10863/site.02.iso.1.subject.0002.l...   \n",
      "2      00/01/08/67/10867/site.02.iso.1.subject.0004.l...   \n",
      "3      00/01/08/68/10868/site.02.iso.1.subject.0005.l...   \n",
      "4      00/01/08/69/10869/site.02.iso.1.subject.0006.l...   \n",
      "...                                                  ...   \n",
      "12283  00/02/83/85/28385/site.20.iso.1.subject.SCH860...   \n",
      "12284  00/02/84/35/28435/site.20.iso.1.subject.SCH860...   \n",
      "12285  00/02/85/60/28560/site.20.iso.1.subject.SCH860...   \n",
      "12286  00/02/83/86/28386/site.20.iso.1.subject.SCH860...   \n",
      "12287  00/02/83/87/28387/site.20.iso.1.subject.SCH861...   \n",
      "\n",
      "                                         REGENOTYPED_VCF  \n",
      "0      00/01/08/61/10861/site.02.iso.1.subject.0001.l...  \n",
      "1      00/01/08/63/10863/site.02.iso.1.subject.0002.l...  \n",
      "2      00/01/08/67/10867/site.02.iso.1.subject.0004.l...  \n",
      "3      00/01/08/68/10868/site.02.iso.1.subject.0005.l...  \n",
      "4      00/01/08/69/10869/site.02.iso.1.subject.0006.l...  \n",
      "...                                                  ...  \n",
      "12283  00/02/83/85/28385/site.20.iso.1.subject.SCH860...  \n",
      "12284  00/02/84/35/28435/site.20.iso.1.subject.SCH860...  \n",
      "12285  00/02/85/60/28560/site.20.iso.1.subject.SCH860...  \n",
      "12286  00/02/83/86/28386/site.20.iso.1.subject.SCH860...  \n",
      "12287  00/02/83/87/28387/site.20.iso.1.subject.SCH861...  \n",
      "\n",
      "[12288 rows x 7 columns]\n"
     ]
    }
   ],
   "source": [
    "# List of column names to keep\n",
    "columns_to_keep = ['UNIQUEID', 'EMB_BINARY_PHENOTYPE', \n",
    "                  'EMB_MIC', 'EMB_PHENOTYPE_QUALITY',\n",
    "                  'ENA_SAMPLE', 'VCF', 'REGENOTYPED_VCF']\n",
    "\n",
    "# Keep only the specified columns\n",
    "df_filtered = df[columns_to_keep]\n",
    "\n",
    "# Display the filtered DataFrame\n",
    "print(df_filtered)"
   ]
  },
  {
   "cell_type": "code",
   "execution_count": 11,
   "id": "e92947b2",
   "metadata": {
    "scrolled": true
   },
   "outputs": [
    {
     "data": {
      "text/plain": [
       "EMB_MIC\n",
       "1.0       4041\n",
       "2.0       2988\n",
       "4.0       1559\n",
       "8.0       1421\n",
       "0.5       1140\n",
       ">8         476\n",
       "16.0       270\n",
       "0.25        94\n",
       "32.0        80\n",
       "<=0.25      44\n",
       "<=0.06      18\n",
       ">32         14\n",
       "0.12        12\n",
       "Name: count, dtype: int64"
      ]
     },
     "execution_count": 11,
     "metadata": {},
     "output_type": "execute_result"
    }
   ],
   "source": [
    "df_filtered['EMB_MIC'].value_counts()"
   ]
  },
  {
   "cell_type": "code",
   "execution_count": 12,
   "id": "8f505f83",
   "metadata": {},
   "outputs": [
    {
     "name": "stderr",
     "output_type": "stream",
     "text": [
      "C:\\Users\\missa\\AppData\\Local\\Temp\\ipykernel_9412\\2186941938.py:12: SettingWithCopyWarning: \n",
      "A value is trying to be set on a copy of a slice from a DataFrame.\n",
      "Try using .loc[row_indexer,col_indexer] = value instead\n",
      "\n",
      "See the caveats in the documentation: https://pandas.pydata.org/pandas-docs/stable/user_guide/indexing.html#returning-a-view-versus-a-copy\n",
      "  df_filtered['EMB_MIC_FINAL'] = df_filtered['EMB_MIC'].apply(process_value)\n"
     ]
    }
   ],
   "source": [
    "def process_value(value):\n",
    "    if isinstance(value, float):\n",
    "        return value\n",
    "    elif '<=' in value:\n",
    "        return float(value.replace('<=', ''))\n",
    "    elif '>' in value:\n",
    "        return float(value.replace('>', '')) * 2\n",
    "    else:\n",
    "        return float(value)\n",
    "\n",
    "    # Create the new column using the custom function\n",
    "df_filtered['EMB_MIC_FINAL'] = df_filtered['EMB_MIC'].apply(process_value)\n"
   ]
  },
  {
   "cell_type": "code",
   "execution_count": 13,
   "id": "d229e6f2",
   "metadata": {},
   "outputs": [
    {
     "data": {
      "text/plain": [
       "EMB_MIC_FINAL\n",
       "1.00     4041\n",
       "2.00     2988\n",
       "4.00     1559\n",
       "8.00     1421\n",
       "0.50     1140\n",
       "16.00     746\n",
       "0.25      138\n",
       "32.00      80\n",
       "0.06       18\n",
       "64.00      14\n",
       "0.12       12\n",
       "Name: count, dtype: int64"
      ]
     },
     "execution_count": 13,
     "metadata": {},
     "output_type": "execute_result"
    }
   ],
   "source": [
    "df_filtered['EMB_MIC_FINAL'].value_counts()"
   ]
  },
  {
   "cell_type": "code",
   "execution_count": 14,
   "id": "11a662ef",
   "metadata": {},
   "outputs": [
    {
     "data": {
      "text/plain": [
       "EMB_BINARY_PHENOTYPE\n",
       "S    8337\n",
       "R    2261\n",
       "I    1559\n",
       "Name: count, dtype: int64"
      ]
     },
     "execution_count": 14,
     "metadata": {},
     "output_type": "execute_result"
    }
   ],
   "source": [
    "df_filtered['EMB_BINARY_PHENOTYPE'].value_counts()"
   ]
  },
  {
   "cell_type": "code",
   "execution_count": 32,
   "id": "d3da68ba",
   "metadata": {},
   "outputs": [],
   "source": [
    "df_filtered.to_csv(\"Cryptic_Ethambutol_Filtered.csv\", index=False)"
   ]
  }
 ],
 "metadata": {
  "kernelspec": {
   "display_name": "Python 3 (ipykernel)",
   "language": "python",
   "name": "python3"
  },
  "language_info": {
   "codemirror_mode": {
    "name": "ipython",
    "version": 3
   },
   "file_extension": ".py",
   "mimetype": "text/x-python",
   "name": "python",
   "nbconvert_exporter": "python",
   "pygments_lexer": "ipython3",
   "version": "3.11.5"
  }
 },
 "nbformat": 4,
 "nbformat_minor": 5
}
